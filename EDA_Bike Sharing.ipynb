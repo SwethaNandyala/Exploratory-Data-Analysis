{
 "cells": [
  {
   "cell_type": "code",
   "execution_count": 1,
   "id": "123ce232",
   "metadata": {},
   "outputs": [],
   "source": [
    "import numpy as np\n",
    "import pandas as pd\n",
    "import seaborn as sns\n",
    "import matplotlib.pyplot as plt"
   ]
  },
  {
   "cell_type": "code",
   "execution_count": 2,
   "id": "35718295",
   "metadata": {},
   "outputs": [],
   "source": [
    "data_df = pd.read_csv('bikes_train.csv')"
   ]
  },
  {
   "cell_type": "code",
   "execution_count": 3,
   "id": "791ed387",
   "metadata": {},
   "outputs": [
    {
     "data": {
      "text/html": [
       "<div>\n",
       "<style scoped>\n",
       "    .dataframe tbody tr th:only-of-type {\n",
       "        vertical-align: middle;\n",
       "    }\n",
       "\n",
       "    .dataframe tbody tr th {\n",
       "        vertical-align: top;\n",
       "    }\n",
       "\n",
       "    .dataframe thead th {\n",
       "        text-align: right;\n",
       "    }\n",
       "</style>\n",
       "<table border=\"1\" class=\"dataframe\">\n",
       "  <thead>\n",
       "    <tr style=\"text-align: right;\">\n",
       "      <th></th>\n",
       "      <th>datetime</th>\n",
       "      <th>season</th>\n",
       "      <th>holiday</th>\n",
       "      <th>workingday</th>\n",
       "      <th>weather</th>\n",
       "      <th>temp</th>\n",
       "      <th>atemp</th>\n",
       "      <th>humidity</th>\n",
       "      <th>windspeed</th>\n",
       "      <th>casual</th>\n",
       "      <th>registered</th>\n",
       "      <th>count</th>\n",
       "    </tr>\n",
       "  </thead>\n",
       "  <tbody>\n",
       "    <tr>\n",
       "      <th>0</th>\n",
       "      <td>2011-01-01 00:00:00</td>\n",
       "      <td>1</td>\n",
       "      <td>0</td>\n",
       "      <td>0</td>\n",
       "      <td>1</td>\n",
       "      <td>9.84</td>\n",
       "      <td>14.395</td>\n",
       "      <td>81</td>\n",
       "      <td>0.0</td>\n",
       "      <td>3</td>\n",
       "      <td>13</td>\n",
       "      <td>16</td>\n",
       "    </tr>\n",
       "    <tr>\n",
       "      <th>1</th>\n",
       "      <td>2011-01-01 01:00:00</td>\n",
       "      <td>1</td>\n",
       "      <td>0</td>\n",
       "      <td>0</td>\n",
       "      <td>1</td>\n",
       "      <td>9.02</td>\n",
       "      <td>13.635</td>\n",
       "      <td>80</td>\n",
       "      <td>0.0</td>\n",
       "      <td>8</td>\n",
       "      <td>32</td>\n",
       "      <td>40</td>\n",
       "    </tr>\n",
       "    <tr>\n",
       "      <th>2</th>\n",
       "      <td>2011-01-01 02:00:00</td>\n",
       "      <td>1</td>\n",
       "      <td>0</td>\n",
       "      <td>0</td>\n",
       "      <td>1</td>\n",
       "      <td>9.02</td>\n",
       "      <td>13.635</td>\n",
       "      <td>80</td>\n",
       "      <td>0.0</td>\n",
       "      <td>5</td>\n",
       "      <td>27</td>\n",
       "      <td>32</td>\n",
       "    </tr>\n",
       "    <tr>\n",
       "      <th>3</th>\n",
       "      <td>2011-01-01 03:00:00</td>\n",
       "      <td>1</td>\n",
       "      <td>0</td>\n",
       "      <td>0</td>\n",
       "      <td>1</td>\n",
       "      <td>9.84</td>\n",
       "      <td>14.395</td>\n",
       "      <td>75</td>\n",
       "      <td>0.0</td>\n",
       "      <td>3</td>\n",
       "      <td>10</td>\n",
       "      <td>13</td>\n",
       "    </tr>\n",
       "    <tr>\n",
       "      <th>4</th>\n",
       "      <td>2011-01-01 04:00:00</td>\n",
       "      <td>1</td>\n",
       "      <td>0</td>\n",
       "      <td>0</td>\n",
       "      <td>1</td>\n",
       "      <td>9.84</td>\n",
       "      <td>14.395</td>\n",
       "      <td>75</td>\n",
       "      <td>0.0</td>\n",
       "      <td>0</td>\n",
       "      <td>1</td>\n",
       "      <td>1</td>\n",
       "    </tr>\n",
       "  </tbody>\n",
       "</table>\n",
       "</div>"
      ],
      "text/plain": [
       "              datetime  season  holiday  workingday  weather  temp   atemp  \\\n",
       "0  2011-01-01 00:00:00       1        0           0        1  9.84  14.395   \n",
       "1  2011-01-01 01:00:00       1        0           0        1  9.02  13.635   \n",
       "2  2011-01-01 02:00:00       1        0           0        1  9.02  13.635   \n",
       "3  2011-01-01 03:00:00       1        0           0        1  9.84  14.395   \n",
       "4  2011-01-01 04:00:00       1        0           0        1  9.84  14.395   \n",
       "\n",
       "   humidity  windspeed  casual  registered  count  \n",
       "0        81        0.0       3          13     16  \n",
       "1        80        0.0       8          32     40  \n",
       "2        80        0.0       5          27     32  \n",
       "3        75        0.0       3          10     13  \n",
       "4        75        0.0       0           1      1  "
      ]
     },
     "execution_count": 3,
     "metadata": {},
     "output_type": "execute_result"
    }
   ],
   "source": [
    "data_df.head()"
   ]
  },
  {
   "cell_type": "code",
   "execution_count": 4,
   "id": "b01f8386",
   "metadata": {},
   "outputs": [
    {
     "name": "stdout",
     "output_type": "stream",
     "text": [
      "<class 'pandas.core.frame.DataFrame'>\n",
      "RangeIndex: 10886 entries, 0 to 10885\n",
      "Data columns (total 12 columns):\n",
      " #   Column      Non-Null Count  Dtype  \n",
      "---  ------      --------------  -----  \n",
      " 0   datetime    10886 non-null  object \n",
      " 1   season      10886 non-null  int64  \n",
      " 2   holiday     10886 non-null  int64  \n",
      " 3   workingday  10886 non-null  int64  \n",
      " 4   weather     10886 non-null  int64  \n",
      " 5   temp        10886 non-null  float64\n",
      " 6   atemp       10886 non-null  float64\n",
      " 7   humidity    10886 non-null  int64  \n",
      " 8   windspeed   10886 non-null  float64\n",
      " 9   casual      10886 non-null  int64  \n",
      " 10  registered  10886 non-null  int64  \n",
      " 11  count       10886 non-null  int64  \n",
      "dtypes: float64(3), int64(8), object(1)\n",
      "memory usage: 1020.7+ KB\n"
     ]
    }
   ],
   "source": [
    "data_df.info()"
   ]
  },
  {
   "cell_type": "code",
   "execution_count": 5,
   "id": "fc491869",
   "metadata": {},
   "outputs": [],
   "source": [
    "#columns casual+registered = count"
   ]
  },
  {
   "cell_type": "code",
   "execution_count": 6,
   "id": "26e95938",
   "metadata": {},
   "outputs": [
    {
     "data": {
      "text/plain": [
       "dtype('<M8[ns]')"
      ]
     },
     "execution_count": 6,
     "metadata": {},
     "output_type": "execute_result"
    }
   ],
   "source": [
    "#convert object to datetime\n",
    "data_df['datetime'] = pd.to_datetime(data_df[\"datetime\"])\n",
    "data_df['datetime'].dtypes"
   ]
  },
  {
   "cell_type": "code",
   "execution_count": 7,
   "id": "502a0ae8",
   "metadata": {},
   "outputs": [
    {
     "data": {
      "text/plain": [
       "datetime      0\n",
       "season        0\n",
       "holiday       0\n",
       "workingday    0\n",
       "weather       0\n",
       "temp          0\n",
       "atemp         0\n",
       "humidity      0\n",
       "windspeed     0\n",
       "casual        0\n",
       "registered    0\n",
       "count         0\n",
       "dtype: int64"
      ]
     },
     "execution_count": 7,
     "metadata": {},
     "output_type": "execute_result"
    }
   ],
   "source": [
    "#check if there are any null values\n",
    "data_df.isnull().sum()"
   ]
  },
  {
   "cell_type": "code",
   "execution_count": 8,
   "id": "6d2e8f33",
   "metadata": {},
   "outputs": [],
   "source": [
    "data_df['time'] = data_df['datetime'].dt.hour\n",
    "data_df['day'] = data_df['datetime'].dt.day\n",
    "data_df['year'] = data_df['datetime'].dt.year\n",
    "data_df['weekday'] = data_df['datetime'].dt.weekday\n",
    "data_df['month'] = data_df['datetime'].dt.month"
   ]
  },
  {
   "cell_type": "markdown",
   "id": "bfb48e72",
   "metadata": {},
   "source": [
    "#we have the data for the first 19days of the month"
   ]
  },
  {
   "cell_type": "code",
   "execution_count": 9,
   "id": "22dc31fd",
   "metadata": {
    "scrolled": true
   },
   "outputs": [
    {
     "data": {
      "text/plain": [
       "1     575\n",
       "2     573\n",
       "3     573\n",
       "4     574\n",
       "5     575\n",
       "6     572\n",
       "7     574\n",
       "8     574\n",
       "9     575\n",
       "10    572\n",
       "11    568\n",
       "12    573\n",
       "13    574\n",
       "14    574\n",
       "15    574\n",
       "16    574\n",
       "17    575\n",
       "18    563\n",
       "19    574\n",
       "Name: day, dtype: int64"
      ]
     },
     "execution_count": 9,
     "metadata": {},
     "output_type": "execute_result"
    }
   ],
   "source": [
    "data_df['day'].value_counts().sort_index()"
   ]
  },
  {
   "cell_type": "code",
   "execution_count": 10,
   "id": "877d6c48",
   "metadata": {},
   "outputs": [],
   "source": [
    "# You are provided hourly rental data spanning two years.\n",
    "# For this competition, the training set is comprised of the first 19 days of each month, \n",
    "# while the test set is the 20th to the end of the month.\n",
    "# You must predict the total count of bikes rented during each hour covered by the test set,\n",
    "# using only information available prior to the rental period."
   ]
  },
  {
   "cell_type": "code",
   "execution_count": 11,
   "id": "3f55f31b",
   "metadata": {},
   "outputs": [],
   "source": [
    "#avg count of bikes per hour\n",
    "avg_count_of_bikes_per_hour = data_df.groupby('time')['count'].mean().reset_index()"
   ]
  },
  {
   "cell_type": "code",
   "execution_count": 12,
   "id": "63c57557",
   "metadata": {},
   "outputs": [
    {
     "data": {
      "image/png": "[encoded data removed]",
      "text/plain": [
       "<Figure size 720x360 with 1 Axes>"
      ]
     },
     "metadata": {
      "needs_background": "light"
     },
     "output_type": "display_data"
    }
   ],
   "source": [
    "plt.figure(figsize=(10,5))\n",
    "graph = sns.barplot(x=avg_count_of_bikes_per_hour['time'],y=avg_count_of_bikes_per_hour['count'])\n",
    "graph.axhline(y=data_df['count'].mean(),color='red',ls='--',linewidth=2)\n",
    "plt.title(\"Average number of bikes per hour\")\n",
    "plt.ylabel(\"Avg no of bikes\")\n",
    "plt.show()"
   ]
  },
  {
   "cell_type": "code",
   "execution_count": 13,
   "id": "378afcac",
   "metadata": {},
   "outputs": [
    {
     "data": {
      "image/png": "[encoded data removed]",
      "text/plain": [
       "<Figure size 720x360 with 1 Axes>"
      ]
     },
     "metadata": {
      "needs_background": "light"
     },
     "output_type": "display_data"
    }
   ],
   "source": [
    "#avg count of bikes on a holiday\n",
    "avg_count_of_bikes_per_holiday = data_df.groupby('holiday')['count'].mean().reset_index()\n",
    "plt.figure(figsize=(10,5))\n",
    "sns.barplot(x=avg_count_of_bikes_per_holiday['holiday'],y=avg_count_of_bikes_per_holiday['count'])\n",
    "plt.title(\"Average number of bikes per holiday\")\n",
    "plt.ylabel(\"Avg no of bikes\")\n",
    "plt.show()"
   ]
  },
  {
   "cell_type": "code",
   "execution_count": 14,
   "id": "5c36f9c8",
   "metadata": {},
   "outputs": [],
   "source": [
    "#avg count of bikes per day\n",
    "avg_count_of_bikes_per_day = data_df.groupby('day')['count'].mean().reset_index()"
   ]
  },
  {
   "cell_type": "code",
   "execution_count": 15,
   "id": "32068b87",
   "metadata": {},
   "outputs": [
    {
     "data": {
      "image/png": "[encoded data removed]",
      "text/plain": [
       "<Figure size 720x360 with 1 Axes>"
      ]
     },
     "metadata": {
      "needs_background": "light"
     },
     "output_type": "display_data"
    }
   ],
   "source": [
    "plt.figure(figsize=(10,5))\n",
    "sns.barplot(x=avg_count_of_bikes_per_day['day'],y=avg_count_of_bikes_per_day['count'])\n",
    "plt.title(\"Average number of bikes per day\")\n",
    "plt.ylabel(\"Avg no of bikes\")\n",
    "plt.show()"
   ]
  },
  {
   "cell_type": "code",
   "execution_count": 16,
   "id": "61861285",
   "metadata": {},
   "outputs": [],
   "source": [
    "#avg count of bikes per weekday\n",
    "avg_count_of_bikes_per_weekday = data_df.groupby('weekday')['count'].mean().reset_index()"
   ]
  },
  {
   "cell_type": "code",
   "execution_count": 17,
   "id": "6d3aef93",
   "metadata": {},
   "outputs": [
    {
     "data": {
      "image/png": "[encoded data removed]",
      "text/plain": [
       "<Figure size 720x360 with 1 Axes>"
      ]
     },
     "metadata": {
      "needs_background": "light"
     },
     "output_type": "display_data"
    }
   ],
   "source": [
    "plt.figure(figsize=(10,5))\n",
    "sns.barplot(x=avg_count_of_bikes_per_weekday['weekday'],y=avg_count_of_bikes_per_weekday['count'])\n",
    "plt.title(\"Average number of bikes per weekday\")\n",
    "plt.xticks(ticks=[0,1,2,3,4,5,6],labels=[\"monday\",\"tuesday\",\"wednesday\",\"thursday\",\"friday\",\"saturday\",\"sunday\"])\n",
    "plt.ylabel(\"Avg no of bikes\")\n",
    "plt.show()"
   ]
  },
  {
   "cell_type": "code",
   "execution_count": 18,
   "id": "1f1de87d",
   "metadata": {},
   "outputs": [],
   "source": [
    "# wednesday thursday,friday and saturday show more count as compared to other days"
   ]
  },
  {
   "cell_type": "code",
   "execution_count": 19,
   "id": "41839b6a",
   "metadata": {},
   "outputs": [
    {
     "data": {
      "text/html": [
       "<div>\n",
       "<style scoped>\n",
       "    .dataframe tbody tr th:only-of-type {\n",
       "        vertical-align: middle;\n",
       "    }\n",
       "\n",
       "    .dataframe tbody tr th {\n",
       "        vertical-align: top;\n",
       "    }\n",
       "\n",
       "    .dataframe thead th {\n",
       "        text-align: right;\n",
       "    }\n",
       "</style>\n",
       "<table border=\"1\" class=\"dataframe\">\n",
       "  <thead>\n",
       "    <tr style=\"text-align: right;\">\n",
       "      <th></th>\n",
       "      <th>season</th>\n",
       "      <th>count</th>\n",
       "    </tr>\n",
       "  </thead>\n",
       "  <tbody>\n",
       "    <tr>\n",
       "      <th>0</th>\n",
       "      <td>1</td>\n",
       "      <td>116.343261</td>\n",
       "    </tr>\n",
       "    <tr>\n",
       "      <th>1</th>\n",
       "      <td>2</td>\n",
       "      <td>215.251372</td>\n",
       "    </tr>\n",
       "    <tr>\n",
       "      <th>2</th>\n",
       "      <td>3</td>\n",
       "      <td>234.417124</td>\n",
       "    </tr>\n",
       "    <tr>\n",
       "      <th>3</th>\n",
       "      <td>4</td>\n",
       "      <td>198.988296</td>\n",
       "    </tr>\n",
       "  </tbody>\n",
       "</table>\n",
       "</div>"
      ],
      "text/plain": [
       "   season       count\n",
       "0       1  116.343261\n",
       "1       2  215.251372\n",
       "2       3  234.417124\n",
       "3       4  198.988296"
      ]
     },
     "execution_count": 19,
     "metadata": {},
     "output_type": "execute_result"
    }
   ],
   "source": [
    "#avg count of bikes by season \n",
    "avg_count_of_bikes_per_season = data_df.groupby('season')['count'].mean().reset_index()\n",
    "avg_count_of_bikes_per_season"
   ]
  },
  {
   "cell_type": "code",
   "execution_count": 20,
   "id": "0780a62b",
   "metadata": {},
   "outputs": [
    {
     "data": {
      "image/png": "[encoded data removed]",
      "text/plain": [
       "<Figure size 720x360 with 1 Axes>"
      ]
     },
     "metadata": {
      "needs_background": "light"
     },
     "output_type": "display_data"
    }
   ],
   "source": [
    "plt.figure(figsize=(10,5))\n",
    "sns.barplot(x=avg_count_of_bikes_per_season['season'],y=avg_count_of_bikes_per_season['count'])\n",
    "plt.title(\"Average number of bikes per season\")\n",
    "plt.xticks(ticks=[0,1,2,3],labels=['spring', 'summer', 'fall', 'winter'])\n",
    "plt.ylabel(\"Avg no of bikes\")\n",
    "plt.show()"
   ]
  },
  {
   "cell_type": "code",
   "execution_count": 21,
   "id": "abbb6379",
   "metadata": {},
   "outputs": [],
   "source": [
    "#people mostly travel out during the summer and fall seasons\n",
    "# winters and spring are cool and people may not prefer travelling out"
   ]
  },
  {
   "cell_type": "code",
   "execution_count": 22,
   "id": "9f69ca36",
   "metadata": {},
   "outputs": [
    {
     "data": {
      "text/html": [
       "<div>\n",
       "<style scoped>\n",
       "    .dataframe tbody tr th:only-of-type {\n",
       "        vertical-align: middle;\n",
       "    }\n",
       "\n",
       "    .dataframe tbody tr th {\n",
       "        vertical-align: top;\n",
       "    }\n",
       "\n",
       "    .dataframe thead th {\n",
       "        text-align: right;\n",
       "    }\n",
       "</style>\n",
       "<table border=\"1\" class=\"dataframe\">\n",
       "  <thead>\n",
       "    <tr style=\"text-align: right;\">\n",
       "      <th></th>\n",
       "      <th>weather</th>\n",
       "      <th>count</th>\n",
       "    </tr>\n",
       "  </thead>\n",
       "  <tbody>\n",
       "    <tr>\n",
       "      <th>0</th>\n",
       "      <td>1</td>\n",
       "      <td>205.236791</td>\n",
       "    </tr>\n",
       "    <tr>\n",
       "      <th>1</th>\n",
       "      <td>2</td>\n",
       "      <td>178.955540</td>\n",
       "    </tr>\n",
       "    <tr>\n",
       "      <th>2</th>\n",
       "      <td>3</td>\n",
       "      <td>118.846333</td>\n",
       "    </tr>\n",
       "    <tr>\n",
       "      <th>3</th>\n",
       "      <td>4</td>\n",
       "      <td>164.000000</td>\n",
       "    </tr>\n",
       "  </tbody>\n",
       "</table>\n",
       "</div>"
      ],
      "text/plain": [
       "   weather       count\n",
       "0        1  205.236791\n",
       "1        2  178.955540\n",
       "2        3  118.846333\n",
       "3        4  164.000000"
      ]
     },
     "execution_count": 22,
     "metadata": {},
     "output_type": "execute_result"
    }
   ],
   "source": [
    "#avg count of bikes by weather conditions\n",
    "avg_count_of_bikes_per_weather = data_df.groupby('weather')['count'].mean().reset_index()\n",
    "avg_count_of_bikes_per_weather"
   ]
  },
  {
   "cell_type": "code",
   "execution_count": 23,
   "id": "a907405c",
   "metadata": {
    "scrolled": true
   },
   "outputs": [
    {
     "data": {
      "image/png": "[encoded data removed]",
      "text/plain": [
       "<Figure size 720x360 with 1 Axes>"
      ]
     },
     "metadata": {
      "needs_background": "light"
     },
     "output_type": "display_data"
    }
   ],
   "source": [
    "plt.figure(figsize=(10,5))\n",
    "sns.barplot(x=avg_count_of_bikes_per_weather['weather'],y=avg_count_of_bikes_per_weather['count'])\n",
    "plt.title(\"Average number of bikes per weather\")\n",
    "plt.ylabel(\"Avg no of bikes\")\n",
    "plt.show()"
   ]
  },
  {
   "cell_type": "markdown",
   "id": "927c1b07",
   "metadata": {},
   "source": [
    "weather - \n",
    "1: Clear, Few clouds, Partly cloudy, Partly cloudy \n",
    "2: Mist + Cloudy, Mist + Broken clouds, Mist + Few clouds, Mist \n",
    "3: Light Snow, Light Rain + Thunderstorm + Scattered clouds, Light Rain + Scattered clouds \n",
    "4: Heavy Rain + Ice Pallets + Thunderstorm + Mist, Snow + Fog"
   ]
  },
  {
   "cell_type": "markdown",
   "id": "45ca0beb",
   "metadata": {},
   "source": [
    "#### No of rentals are more when the weather is clear"
   ]
  },
  {
   "cell_type": "code",
   "execution_count": 24,
   "id": "be4f1b2e",
   "metadata": {
    "scrolled": true
   },
   "outputs": [
    {
     "data": {
      "text/plain": [
       "20-30    4306\n",
       "10-20    4044\n",
       "0-10     1591\n",
       "30-40     945\n",
       "Name: temp, dtype: int64"
      ]
     },
     "execution_count": 24,
     "metadata": {},
     "output_type": "execute_result"
    }
   ],
   "source": [
    "temp_bins = pd.cut(x=data_df['temp'],bins=4,labels=['0-10','10-20','20-30','30-40'])\n",
    "temp_bins.value_counts()"
   ]
  },
  {
   "cell_type": "code",
   "execution_count": 25,
   "id": "a3f82f8a",
   "metadata": {},
   "outputs": [
    {
     "data": {
      "text/html": [
       "<div>\n",
       "<style scoped>\n",
       "    .dataframe tbody tr th:only-of-type {\n",
       "        vertical-align: middle;\n",
       "    }\n",
       "\n",
       "    .dataframe tbody tr th {\n",
       "        vertical-align: top;\n",
       "    }\n",
       "\n",
       "    .dataframe thead th {\n",
       "        text-align: right;\n",
       "    }\n",
       "</style>\n",
       "<table border=\"1\" class=\"dataframe\">\n",
       "  <thead>\n",
       "    <tr style=\"text-align: right;\">\n",
       "      <th></th>\n",
       "      <th>temp_bins</th>\n",
       "      <th>count</th>\n",
       "    </tr>\n",
       "  </thead>\n",
       "  <tbody>\n",
       "    <tr>\n",
       "      <th>0</th>\n",
       "      <td>0-10</td>\n",
       "      <td>77.228787</td>\n",
       "    </tr>\n",
       "    <tr>\n",
       "      <th>1</th>\n",
       "      <td>10-20</td>\n",
       "      <td>159.602127</td>\n",
       "    </tr>\n",
       "    <tr>\n",
       "      <th>2</th>\n",
       "      <td>20-30</td>\n",
       "      <td>230.374361</td>\n",
       "    </tr>\n",
       "    <tr>\n",
       "      <th>3</th>\n",
       "      <td>30-40</td>\n",
       "      <td>344.107937</td>\n",
       "    </tr>\n",
       "  </tbody>\n",
       "</table>\n",
       "</div>"
      ],
      "text/plain": [
       "  temp_bins       count\n",
       "0      0-10   77.228787\n",
       "1     10-20  159.602127\n",
       "2     20-30  230.374361\n",
       "3     30-40  344.107937"
      ]
     },
     "execution_count": 25,
     "metadata": {},
     "output_type": "execute_result"
    }
   ],
   "source": [
    "data_df[\"temp_bins\"] = temp_bins\n",
    "avg_count_of_bikes_per_tempbin = data_df.groupby(\"temp_bins\")['count'].mean().reset_index()\n",
    "avg_count_of_bikes_per_tempbin"
   ]
  },
  {
   "cell_type": "code",
   "execution_count": 26,
   "id": "711379b2",
   "metadata": {},
   "outputs": [
    {
     "data": {
      "image/png": "[encoded data removed]",
      "text/plain": [
       "<Figure size 720x360 with 1 Axes>"
      ]
     },
     "metadata": {
      "needs_background": "light"
     },
     "output_type": "display_data"
    }
   ],
   "source": [
    "plt.figure(figsize=(10,5))\n",
    "sns.barplot(x=avg_count_of_bikes_per_tempbin[\"temp_bins\"],y=avg_count_of_bikes_per_tempbin['count'])\n",
    "plt.title(\"Average number of bikes per temp range\")\n",
    "plt.ylabel(\"Avg no of bikes\")\n",
    "plt.show()"
   ]
  },
  {
   "cell_type": "markdown",
   "id": "18db63b2",
   "metadata": {},
   "source": [
    "### Atemp"
   ]
  },
  {
   "cell_type": "code",
   "execution_count": 27,
   "id": "1072288f",
   "metadata": {},
   "outputs": [
    {
     "data": {
      "text/plain": [
       "20-30    4654\n",
       "10-20    4148\n",
       "30-40    1070\n",
       "0-10     1014\n",
       "Name: atemp, dtype: int64"
      ]
     },
     "execution_count": 27,
     "metadata": {},
     "output_type": "execute_result"
    }
   ],
   "source": [
    "atemp_bins = pd.cut(x=data_df['atemp'],bins=4,labels=['0-10','10-20','20-30','30-40'])\n",
    "atemp_bins.value_counts()"
   ]
  },
  {
   "cell_type": "code",
   "execution_count": 28,
   "id": "19800794",
   "metadata": {},
   "outputs": [
    {
     "data": {
      "text/html": [
       "<div>\n",
       "<style scoped>\n",
       "    .dataframe tbody tr th:only-of-type {\n",
       "        vertical-align: middle;\n",
       "    }\n",
       "\n",
       "    .dataframe tbody tr th {\n",
       "        vertical-align: top;\n",
       "    }\n",
       "\n",
       "    .dataframe thead th {\n",
       "        text-align: right;\n",
       "    }\n",
       "</style>\n",
       "<table border=\"1\" class=\"dataframe\">\n",
       "  <thead>\n",
       "    <tr style=\"text-align: right;\">\n",
       "      <th></th>\n",
       "      <th>atemp_bins</th>\n",
       "      <th>count</th>\n",
       "    </tr>\n",
       "  </thead>\n",
       "  <tbody>\n",
       "    <tr>\n",
       "      <th>0</th>\n",
       "      <td>0-10</td>\n",
       "      <td>78.192308</td>\n",
       "    </tr>\n",
       "    <tr>\n",
       "      <th>1</th>\n",
       "      <td>10-20</td>\n",
       "      <td>144.111620</td>\n",
       "    </tr>\n",
       "    <tr>\n",
       "      <th>2</th>\n",
       "      <td>20-30</td>\n",
       "      <td>229.797379</td>\n",
       "    </tr>\n",
       "    <tr>\n",
       "      <th>3</th>\n",
       "      <td>30-40</td>\n",
       "      <td>316.763551</td>\n",
       "    </tr>\n",
       "  </tbody>\n",
       "</table>\n",
       "</div>"
      ],
      "text/plain": [
       "  atemp_bins       count\n",
       "0       0-10   78.192308\n",
       "1      10-20  144.111620\n",
       "2      20-30  229.797379\n",
       "3      30-40  316.763551"
      ]
     },
     "execution_count": 28,
     "metadata": {},
     "output_type": "execute_result"
    }
   ],
   "source": [
    "data_df[\"atemp_bins\"] = atemp_bins\n",
    "avg_count_of_bikes_per_atempbin = data_df.groupby(\"atemp_bins\")['count'].mean().reset_index()\n",
    "avg_count_of_bikes_per_atempbin"
   ]
  },
  {
   "cell_type": "code",
   "execution_count": 29,
   "id": "de33e12d",
   "metadata": {},
   "outputs": [
    {
     "data": {
      "image/png": "[encoded data removed]",
      "text/plain": [
       "<Figure size 720x360 with 1 Axes>"
      ]
     },
     "metadata": {
      "needs_background": "light"
     },
     "output_type": "display_data"
    }
   ],
   "source": [
    "plt.figure(figsize=(10,5))\n",
    "sns.barplot(x=avg_count_of_bikes_per_atempbin[\"atemp_bins\"],\n",
    "            y=avg_count_of_bikes_per_atempbin['count'])\n",
    "plt.title(\"Average number of bikes per atemp range\")\n",
    "plt.ylabel(\"Avg no of bikes\")\n",
    "plt.show()"
   ]
  },
  {
   "cell_type": "markdown",
   "id": "c3bca61d",
   "metadata": {},
   "source": [
    "#### at lower temp there are less no of bike rentals and at higher temp or normal temp there are more rentals"
   ]
  },
  {
   "cell_type": "markdown",
   "id": "a8c909e1",
   "metadata": {},
   "source": [
    "humidity - relative humidity\n",
    "windspeed - wind speed"
   ]
  },
  {
   "cell_type": "code",
   "execution_count": 30,
   "id": "2028f292",
   "metadata": {},
   "outputs": [
    {
     "data": {
      "text/plain": [
       "40-60     3564\n",
       "60-80     3382\n",
       "80-100    2302\n",
       "20-40     1560\n",
       "0-20        78\n",
       "Name: humidity, dtype: int64"
      ]
     },
     "execution_count": 30,
     "metadata": {},
     "output_type": "execute_result"
    }
   ],
   "source": [
    "humidity_bins = pd.cut(x=data_df['humidity'],bins=5,labels=['0-20','20-40','40-60','60-80','80-100'])\n",
    "humidity_bins.value_counts()"
   ]
  },
  {
   "cell_type": "code",
   "execution_count": 31,
   "id": "c79027aa",
   "metadata": {},
   "outputs": [
    {
     "data": {
      "text/html": [
       "<div>\n",
       "<style scoped>\n",
       "    .dataframe tbody tr th:only-of-type {\n",
       "        vertical-align: middle;\n",
       "    }\n",
       "\n",
       "    .dataframe tbody tr th {\n",
       "        vertical-align: top;\n",
       "    }\n",
       "\n",
       "    .dataframe thead th {\n",
       "        text-align: right;\n",
       "    }\n",
       "</style>\n",
       "<table border=\"1\" class=\"dataframe\">\n",
       "  <thead>\n",
       "    <tr style=\"text-align: right;\">\n",
       "      <th></th>\n",
       "      <th>humidity_bins</th>\n",
       "      <th>count</th>\n",
       "    </tr>\n",
       "  </thead>\n",
       "  <tbody>\n",
       "    <tr>\n",
       "      <th>0</th>\n",
       "      <td>0-20</td>\n",
       "      <td>180.384615</td>\n",
       "    </tr>\n",
       "    <tr>\n",
       "      <th>1</th>\n",
       "      <td>20-40</td>\n",
       "      <td>290.648718</td>\n",
       "    </tr>\n",
       "    <tr>\n",
       "      <th>2</th>\n",
       "      <td>40-60</td>\n",
       "      <td>220.543490</td>\n",
       "    </tr>\n",
       "    <tr>\n",
       "      <th>3</th>\n",
       "      <td>60-80</td>\n",
       "      <td>171.275872</td>\n",
       "    </tr>\n",
       "    <tr>\n",
       "      <th>4</th>\n",
       "      <td>80-100</td>\n",
       "      <td>109.783666</td>\n",
       "    </tr>\n",
       "  </tbody>\n",
       "</table>\n",
       "</div>"
      ],
      "text/plain": [
       "  humidity_bins       count\n",
       "0          0-20  180.384615\n",
       "1         20-40  290.648718\n",
       "2         40-60  220.543490\n",
       "3         60-80  171.275872\n",
       "4        80-100  109.783666"
      ]
     },
     "execution_count": 31,
     "metadata": {},
     "output_type": "execute_result"
    }
   ],
   "source": [
    "data_df[\"humidity_bins\"] = humidity_bins\n",
    "avg_count_of_bikes_per_humiditybin = data_df.groupby(\"humidity_bins\")['count'].mean().reset_index()\n",
    "avg_count_of_bikes_per_humiditybin"
   ]
  },
  {
   "cell_type": "code",
   "execution_count": 32,
   "id": "9912bb3e",
   "metadata": {},
   "outputs": [
    {
     "data": {
      "image/png": "[encoded data removed]",
      "text/plain": [
       "<Figure size 720x360 with 1 Axes>"
      ]
     },
     "metadata": {
      "needs_background": "light"
     },
     "output_type": "display_data"
    }
   ],
   "source": [
    "plt.figure(figsize=(10,5))\n",
    "sns.barplot(x=avg_count_of_bikes_per_humiditybin[\"humidity_bins\"],\n",
    "            y=avg_count_of_bikes_per_humiditybin['count'])\n",
    "plt.title(\"Average number of bikes per humidity range\")\n",
    "plt.ylabel(\"Avg no of bikes\")\n",
    "plt.show()"
   ]
  },
  {
   "cell_type": "code",
   "execution_count": 33,
   "id": "8f740c45",
   "metadata": {},
   "outputs": [
    {
     "data": {
      "text/plain": [
       "0-10     5396\n",
       "10-20    4367\n",
       "20-30     976\n",
       "30-40     138\n",
       "40-50       9\n",
       "Name: windspeed, dtype: int64"
      ]
     },
     "execution_count": 33,
     "metadata": {},
     "output_type": "execute_result"
    }
   ],
   "source": [
    "# negative relation between humidity and rentals\n",
    "windspeed_bins = pd.cut(x=data_df['windspeed'],bins=5,labels=['0-10','10-20','20-30','30-40','40-50'])\n",
    "windspeed_bins.value_counts()"
   ]
  },
  {
   "cell_type": "code",
   "execution_count": 34,
   "id": "5bbd3d95",
   "metadata": {},
   "outputs": [
    {
     "data": {
      "text/html": [
       "<div>\n",
       "<style scoped>\n",
       "    .dataframe tbody tr th:only-of-type {\n",
       "        vertical-align: middle;\n",
       "    }\n",
       "\n",
       "    .dataframe tbody tr th {\n",
       "        vertical-align: top;\n",
       "    }\n",
       "\n",
       "    .dataframe thead th {\n",
       "        text-align: right;\n",
       "    }\n",
       "</style>\n",
       "<table border=\"1\" class=\"dataframe\">\n",
       "  <thead>\n",
       "    <tr style=\"text-align: right;\">\n",
       "      <th></th>\n",
       "      <th>windspeed_bins</th>\n",
       "      <th>count</th>\n",
       "    </tr>\n",
       "  </thead>\n",
       "  <tbody>\n",
       "    <tr>\n",
       "      <th>0</th>\n",
       "      <td>0-10</td>\n",
       "      <td>171.720719</td>\n",
       "    </tr>\n",
       "    <tr>\n",
       "      <th>1</th>\n",
       "      <td>10-20</td>\n",
       "      <td>210.086558</td>\n",
       "    </tr>\n",
       "    <tr>\n",
       "      <th>2</th>\n",
       "      <td>20-30</td>\n",
       "      <td>217.713115</td>\n",
       "    </tr>\n",
       "    <tr>\n",
       "      <th>3</th>\n",
       "      <td>30-40</td>\n",
       "      <td>200.992754</td>\n",
       "    </tr>\n",
       "    <tr>\n",
       "      <th>4</th>\n",
       "      <td>40-50</td>\n",
       "      <td>133.111111</td>\n",
       "    </tr>\n",
       "  </tbody>\n",
       "</table>\n",
       "</div>"
      ],
      "text/plain": [
       "  windspeed_bins       count\n",
       "0           0-10  171.720719\n",
       "1          10-20  210.086558\n",
       "2          20-30  217.713115\n",
       "3          30-40  200.992754\n",
       "4          40-50  133.111111"
      ]
     },
     "execution_count": 34,
     "metadata": {},
     "output_type": "execute_result"
    }
   ],
   "source": [
    "data_df[\"windspeed_bins\"] = windspeed_bins\n",
    "avg_count_of_bikes_per_windspeedbin = data_df.groupby(\"windspeed_bins\")['count'].mean().reset_index()\n",
    "avg_count_of_bikes_per_windspeedbin"
   ]
  },
  {
   "cell_type": "code",
   "execution_count": 35,
   "id": "186f71e0",
   "metadata": {},
   "outputs": [
    {
     "data": {
      "image/png": "[encoded data removed]",
      "text/plain": [
       "<Figure size 720x360 with 1 Axes>"
      ]
     },
     "metadata": {
      "needs_background": "light"
     },
     "output_type": "display_data"
    }
   ],
   "source": [
    "plt.figure(figsize=(10,5))\n",
    "sns.barplot(x=avg_count_of_bikes_per_windspeedbin[\"windspeed_bins\"],\n",
    "            y=avg_count_of_bikes_per_windspeedbin['count'])\n",
    "plt.title(\"Average number of bikes per windspeed range\")\n",
    "plt.ylabel(\"Avg no of bikes\")\n",
    "plt.show()"
   ]
  },
  {
   "cell_type": "code",
   "execution_count": 36,
   "id": "4a82e995",
   "metadata": {},
   "outputs": [],
   "source": [
    "# when windspeed is moderate the rentals are more"
   ]
  },
  {
   "cell_type": "code",
   "execution_count": 37,
   "id": "bf594749",
   "metadata": {},
   "outputs": [
    {
     "data": {
      "image/png": "[encoded data removed]",
      "text/plain": [
       "<Figure size 1080x720 with 2 Axes>"
      ]
     },
     "metadata": {
      "needs_background": "light"
     },
     "output_type": "display_data"
    }
   ],
   "source": [
    "plt.figure(figsize=(15,10))\n",
    "sns.heatmap(data_df.corr(), annot=True, cmap='coolwarm', linewidths=.5)\n",
    "plt.title('Correlation Heatmap')\n",
    "plt.show()"
   ]
  },
  {
   "cell_type": "code",
   "execution_count": 38,
   "id": "ad18321f",
   "metadata": {},
   "outputs": [],
   "source": [
    "train_data_set = data_df[(data_df['day'] != 18) &( data_df['day']!= 19)]\n",
    "test_data_set = data_df[(data_df['day']== 18) |( data_df['day']== 19)]"
   ]
  },
  {
   "cell_type": "code",
   "execution_count": 39,
   "id": "ef47d95e",
   "metadata": {},
   "outputs": [
    {
     "name": "stdout",
     "output_type": "stream",
     "text": [
      "Length of Training data 9749\n",
      "Length of Testing data 1137\n",
      "Number of Training data columns 21\n",
      "Number of Testing data columns 21\n"
     ]
    }
   ],
   "source": [
    "print(\"Length of Training data\",len(train_data_set))\n",
    "print(\"Length of Testing data\",len(test_data_set))\n",
    "\n",
    "print(\"Number of Training data columns\",len(train_data_set.columns))\n",
    "print(\"Number of Testing data columns\",len(test_data_set.columns))"
   ]
  },
  {
   "cell_type": "code",
   "execution_count": 40,
   "id": "f1276175",
   "metadata": {},
   "outputs": [],
   "source": [
    "target_feature = ['count']\n",
    "ind_features = ['season', 'holiday', 'workingday', 'weather', 'temp',\n",
    "                'atemp', 'humidity', 'windspeed', 'casual', 'registered',\n",
    "                'time', 'day', 'year', 'weekday', 'month']\n",
    "\n",
    "categorical_features = ['season', 'holiday', 'workingday', 'weather', 'time', 'year', 'weekday', 'month']"
   ]
  },
  {
   "cell_type": "markdown",
   "id": "0bd9d5a0",
   "metadata": {},
   "source": [
    "### OneHotEncoding"
   ]
  },
  {
   "cell_type": "code",
   "execution_count": 41,
   "id": "56aa2c81",
   "metadata": {},
   "outputs": [],
   "source": [
    "from sklearn.preprocessing import OneHotEncoder\n",
    "ohe = OneHotEncoder()"
   ]
  },
  {
   "cell_type": "code",
   "execution_count": 42,
   "id": "ffc04a5f",
   "metadata": {},
   "outputs": [],
   "source": [
    "data_df_encoded = ohe.fit_transform(data_df[categorical_features]).toarray()\n",
    "data_encoded_df = pd.DataFrame(data_df_encoded,columns=ohe.get_feature_names_out(), index = data_df.index)\n",
    "data_df_new= pd.concat([data_df,data_encoded_df],axis=1)"
   ]
  },
  {
   "cell_type": "code",
   "execution_count": 43,
   "id": "f1b3e229",
   "metadata": {},
   "outputs": [],
   "source": [
    "y_train = data_df_new[\"count\"].iloc[train_data_set.index]\n",
    "y_test  = data_df_new[\"count\"].iloc[test_data_set.index]"
   ]
  },
  {
   "cell_type": "code",
   "execution_count": 44,
   "id": "1c5a3d44",
   "metadata": {},
   "outputs": [],
   "source": [
    "drop_features = categorical_features+[\"datetime\",\"casual\",\"registered\",\"count\",'temp_bins', 'atemp_bins',\n",
    "       'humidity_bins', 'windspeed_bins']"
   ]
  },
  {
   "cell_type": "code",
   "execution_count": 45,
   "id": "ce86543b",
   "metadata": {},
   "outputs": [],
   "source": [
    "data_df_new.drop(drop_features,axis=1,inplace=True)\n",
    "\n",
    "X_train = data_df_new.iloc[train_data_set.index]\n",
    "X_test  = data_df_new.iloc[test_data_set.index]"
   ]
  },
  {
   "cell_type": "markdown",
   "id": "0848e425",
   "metadata": {},
   "source": [
    "### Linear Regression"
   ]
  },
  {
   "cell_type": "code",
   "execution_count": 46,
   "id": "c25c2992",
   "metadata": {},
   "outputs": [
    {
     "data": {
      "text/html": [
       "<style>#sk-container-id-1 {color: black;background-color: white;}#sk-container-id-1 pre{padding: 0;}#sk-container-id-1 div.sk-toggleable {background-color: white;}#sk-container-id-1 label.sk-toggleable__label {cursor: pointer;display: block;width: 100%;margin-bottom: 0;padding: 0.3em;box-sizing: border-box;text-align: center;}#sk-container-id-1 label.sk-toggleable__label-arrow:before {content: \"▸\";float: left;margin-right: 0.25em;color: #696969;}#sk-container-id-1 label.sk-toggleable__label-arrow:hover:before {color: black;}#sk-container-id-1 div.sk-estimator:hover label.sk-toggleable__label-arrow:before {color: black;}#sk-container-id-1 div.sk-toggleable__content {max-height: 0;max-width: 0;overflow: hidden;text-align: left;background-color: #f0f8ff;}#sk-container-id-1 div.sk-toggleable__content pre {margin: 0.2em;color: black;border-radius: 0.25em;background-color: #f0f8ff;}#sk-container-id-1 input.sk-toggleable__control:checked~div.sk-toggleable__content {max-height: 200px;max-width: 100%;overflow: auto;}#sk-container-id-1 input.sk-toggleable__control:checked~label.sk-toggleable__label-arrow:before {content: \"▾\";}#sk-container-id-1 div.sk-estimator input.sk-toggleable__control:checked~label.sk-toggleable__label {background-color: #d4ebff;}#sk-container-id-1 div.sk-label input.sk-toggleable__control:checked~label.sk-toggleable__label {background-color: #d4ebff;}#sk-container-id-1 input.sk-hidden--visually {border: 0;clip: rect(1px 1px 1px 1px);clip: rect(1px, 1px, 1px, 1px);height: 1px;margin: -1px;overflow: hidden;padding: 0;position: absolute;width: 1px;}#sk-container-id-1 div.sk-estimator {font-family: monospace;background-color: #f0f8ff;border: 1px dotted black;border-radius: 0.25em;box-sizing: border-box;margin-bottom: 0.5em;}#sk-container-id-1 div.sk-estimator:hover {background-color: #d4ebff;}#sk-container-id-1 div.sk-parallel-item::after {content: \"\";width: 100%;border-bottom: 1px solid gray;flex-grow: 1;}#sk-container-id-1 div.sk-label:hover label.sk-toggleable__label {background-color: #d4ebff;}#sk-container-id-1 div.sk-serial::before {content: \"\";position: absolute;border-left: 1px solid gray;box-sizing: border-box;top: 0;bottom: 0;left: 50%;z-index: 0;}#sk-container-id-1 div.sk-serial {display: flex;flex-direction: column;align-items: center;background-color: white;padding-right: 0.2em;padding-left: 0.2em;position: relative;}#sk-container-id-1 div.sk-item {position: relative;z-index: 1;}#sk-container-id-1 div.sk-parallel {display: flex;align-items: stretch;justify-content: center;background-color: white;position: relative;}#sk-container-id-1 div.sk-item::before, #sk-container-id-1 div.sk-parallel-item::before {content: \"\";position: absolute;border-left: 1px solid gray;box-sizing: border-box;top: 0;bottom: 0;left: 50%;z-index: -1;}#sk-container-id-1 div.sk-parallel-item {display: flex;flex-direction: column;z-index: 1;position: relative;background-color: white;}#sk-container-id-1 div.sk-parallel-item:first-child::after {align-self: flex-end;width: 50%;}#sk-container-id-1 div.sk-parallel-item:last-child::after {align-self: flex-start;width: 50%;}#sk-container-id-1 div.sk-parallel-item:only-child::after {width: 0;}#sk-container-id-1 div.sk-dashed-wrapped {border: 1px dashed gray;margin: 0 0.4em 0.5em 0.4em;box-sizing: border-box;padding-bottom: 0.4em;background-color: white;}#sk-container-id-1 div.sk-label label {font-family: monospace;font-weight: bold;display: inline-block;line-height: 1.2em;}#sk-container-id-1 div.sk-label-container {text-align: center;}#sk-container-id-1 div.sk-container {/* jupyter's `normalize.less` sets `[hidden] { display: none; }` but bootstrap.min.css set `[hidden] { display: none !important; }` so we also need the `!important` here to be able to override the default hidden behavior on the sphinx rendered scikit-learn.org. See: https://github.com/scikit-learn/scikit-learn/issues/21755 */display: inline-block !important;position: relative;}#sk-container-id-1 div.sk-text-repr-fallback {display: none;}</style><div id=\"sk-container-id-1\" class=\"sk-top-container\"><div class=\"sk-text-repr-fallback\"><pre>LinearRegression()</pre><b>In a Jupyter environment, please rerun this cell to show the HTML representation or trust the notebook. <br />On GitHub, the HTML representation is unable to render, please try loading this page with nbviewer.org.</b></div><div class=\"sk-container\" hidden><div class=\"sk-item\"><div class=\"sk-estimator sk-toggleable\"><input class=\"sk-toggleable__control sk-hidden--visually\" id=\"sk-estimator-id-1\" type=\"checkbox\" checked><label for=\"sk-estimator-id-1\" class=\"sk-toggleable__label sk-toggleable__label-arrow\">LinearRegression</label><div class=\"sk-toggleable__content\"><pre>LinearRegression()</pre></div></div></div></div></div>"
      ],
      "text/plain": [
       "LinearRegression()"
      ]
     },
     "execution_count": 46,
     "metadata": {},
     "output_type": "execute_result"
    }
   ],
   "source": [
    "from sklearn.linear_model import LinearRegression\n",
    "lr_model = LinearRegression()\n",
    "lr_model.fit(X_train,y_train)"
   ]
  },
  {
   "cell_type": "code",
   "execution_count": 47,
   "id": "44220953",
   "metadata": {},
   "outputs": [
    {
     "name": "stdout",
     "output_type": "stream",
     "text": [
      "The Linear model is trained using 62 columns\n",
      "The coefficient are [ 1.81059449e+00  2.70372304e+00 -8.01978446e-01 -3.75284135e-01\n",
      "  7.38679213e-01 -2.34593201e+12 -9.31364476e+11 -5.01070229e+11\n",
      " -9.07916733e+11  6.08007194e+11  1.45176614e+12 -8.36839158e+11\n",
      "  6.91978883e+09  2.09331116e+12  2.09331116e+12  2.09331116e+12\n",
      "  2.09331116e+12  4.37936528e+10  4.37936528e+10  4.37936527e+10\n",
      "  4.37936527e+10  4.37936527e+10  4.37936527e+10  4.37936528e+10\n",
      "  4.37936529e+10  4.37936531e+10  4.37936529e+10  4.37936529e+10\n",
      "  4.37936529e+10  4.37936529e+10  4.37936529e+10  4.37936529e+10\n",
      "  4.37936529e+10  4.37936530e+10  4.37936532e+10  4.37936531e+10\n",
      "  4.37936530e+10  4.37936529e+10  4.37936529e+10  4.37936528e+10\n",
      "  4.37936528e+10  2.81049784e+11  2.81049784e+11  3.11768151e+09\n",
      "  3.11768151e+09  3.11768152e+09  3.11768152e+09  3.11768152e+09\n",
      "  8.46876628e+11  8.46876628e+11  5.16635695e+11  5.16635695e+11\n",
      "  5.16635695e+11 -8.97931840e+11 -8.97931840e+11 -8.97931840e+11\n",
      " -1.32822609e+12 -1.32822609e+12 -1.32822609e+12 -9.21379582e+11\n",
      " -9.21379582e+11 -9.21379582e+11]\n"
     ]
    }
   ],
   "source": [
    "print(f\"The Linear model is trained using {len(X_train.columns)} columns\")\n",
    "print(\"The coefficient are\", lr_model.coef_)"
   ]
  },
  {
   "cell_type": "code",
   "execution_count": 48,
   "id": "b3d96749",
   "metadata": {},
   "outputs": [
    {
     "data": {
      "text/html": [
       "<div>\n",
       "<style scoped>\n",
       "    .dataframe tbody tr th:only-of-type {\n",
       "        vertical-align: middle;\n",
       "    }\n",
       "\n",
       "    .dataframe tbody tr th {\n",
       "        vertical-align: top;\n",
       "    }\n",
       "\n",
       "    .dataframe thead th {\n",
       "        text-align: right;\n",
       "    }\n",
       "</style>\n",
       "<table border=\"1\" class=\"dataframe\">\n",
       "  <thead>\n",
       "    <tr style=\"text-align: right;\">\n",
       "      <th></th>\n",
       "      <th>0</th>\n",
       "      <th>1</th>\n",
       "      <th>2</th>\n",
       "      <th>3</th>\n",
       "      <th>4</th>\n",
       "      <th>5</th>\n",
       "      <th>6</th>\n",
       "      <th>7</th>\n",
       "      <th>8</th>\n",
       "      <th>9</th>\n",
       "      <th>...</th>\n",
       "      <th>52</th>\n",
       "      <th>53</th>\n",
       "      <th>54</th>\n",
       "      <th>55</th>\n",
       "      <th>56</th>\n",
       "      <th>57</th>\n",
       "      <th>58</th>\n",
       "      <th>59</th>\n",
       "      <th>60</th>\n",
       "      <th>61</th>\n",
       "    </tr>\n",
       "  </thead>\n",
       "  <tbody>\n",
       "    <tr>\n",
       "      <th>Features</th>\n",
       "      <td>temp</td>\n",
       "      <td>atemp</td>\n",
       "      <td>humidity</td>\n",
       "      <td>windspeed</td>\n",
       "      <td>day</td>\n",
       "      <td>season_1</td>\n",
       "      <td>season_2</td>\n",
       "      <td>season_3</td>\n",
       "      <td>season_4</td>\n",
       "      <td>holiday_0</td>\n",
       "      <td>...</td>\n",
       "      <td>month_3</td>\n",
       "      <td>month_4</td>\n",
       "      <td>month_5</td>\n",
       "      <td>month_6</td>\n",
       "      <td>month_7</td>\n",
       "      <td>month_8</td>\n",
       "      <td>month_9</td>\n",
       "      <td>month_10</td>\n",
       "      <td>month_11</td>\n",
       "      <td>month_12</td>\n",
       "    </tr>\n",
       "    <tr>\n",
       "      <th>Coefficients</th>\n",
       "      <td>1.810594</td>\n",
       "      <td>2.703723</td>\n",
       "      <td>-0.801978</td>\n",
       "      <td>-0.375284</td>\n",
       "      <td>0.738679</td>\n",
       "      <td>-2345932010696.790527</td>\n",
       "      <td>-931364475715.869629</td>\n",
       "      <td>-501070228834.436646</td>\n",
       "      <td>-907916733118.966797</td>\n",
       "      <td>608007194066.343872</td>\n",
       "      <td>...</td>\n",
       "      <td>516635695122.861267</td>\n",
       "      <td>-897931839829.918457</td>\n",
       "      <td>-897931839806.408691</td>\n",
       "      <td>-897931839812.705933</td>\n",
       "      <td>-1328226086717.537598</td>\n",
       "      <td>-1328226086707.857422</td>\n",
       "      <td>-1328226086682.562988</td>\n",
       "      <td>-921379582380.796875</td>\n",
       "      <td>-921379582398.894043</td>\n",
       "      <td>-921379582403.978516</td>\n",
       "    </tr>\n",
       "  </tbody>\n",
       "</table>\n",
       "<p>2 rows × 62 columns</p>\n",
       "</div>"
      ],
      "text/plain": [
       "                    0         1         2          3         4   \\\n",
       "Features          temp     atemp  humidity  windspeed       day   \n",
       "Coefficients  1.810594  2.703723 -0.801978  -0.375284  0.738679   \n",
       "\n",
       "                                5                    6                    7   \\\n",
       "Features                  season_1             season_2             season_3   \n",
       "Coefficients -2345932010696.790527 -931364475715.869629 -501070228834.436646   \n",
       "\n",
       "                               8                    9   ...  \\\n",
       "Features                 season_4            holiday_0  ...   \n",
       "Coefficients -907916733118.966797  608007194066.343872  ...   \n",
       "\n",
       "                               52                   53                   54  \\\n",
       "Features                  month_3              month_4              month_5   \n",
       "Coefficients  516635695122.861267 -897931839829.918457 -897931839806.408691   \n",
       "\n",
       "                               55                    56                    57  \\\n",
       "Features                  month_6               month_7               month_8   \n",
       "Coefficients -897931839812.705933 -1328226086717.537598 -1328226086707.857422   \n",
       "\n",
       "                                58                   59                   60  \\\n",
       "Features                   month_9             month_10             month_11   \n",
       "Coefficients -1328226086682.562988 -921379582380.796875 -921379582398.894043   \n",
       "\n",
       "                               61  \n",
       "Features                 month_12  \n",
       "Coefficients -921379582403.978516  \n",
       "\n",
       "[2 rows x 62 columns]"
      ]
     },
     "execution_count": 48,
     "metadata": {},
     "output_type": "execute_result"
    }
   ],
   "source": [
    "pd.DataFrame({\"Features\":list(X_train.columns),\n",
    "              \"Coefficients\": list(lr_model.coef_)}).T"
   ]
  },
  {
   "cell_type": "code",
   "execution_count": null,
   "id": "67dbebb9",
   "metadata": {},
   "outputs": [],
   "source": [
    "lr_model.get_params()"
   ]
  },
  {
   "cell_type": "code",
   "execution_count": 49,
   "id": "7291df55",
   "metadata": {},
   "outputs": [],
   "source": [
    "y_pred=lr_model.predict(X_test)"
   ]
  },
  {
   "cell_type": "code",
   "execution_count": 50,
   "id": "ad66be50",
   "metadata": {},
   "outputs": [
    {
     "data": {
      "text/plain": [
       "0.6906781542683009"
      ]
     },
     "execution_count": 50,
     "metadata": {},
     "output_type": "execute_result"
    }
   ],
   "source": [
    "lr_model.score(X_test,y_test)"
   ]
  },
  {
   "cell_type": "code",
   "execution_count": 51,
   "id": "d19edbf5",
   "metadata": {},
   "outputs": [
    {
     "data": {
      "text/plain": [
       "0.6906781542683009"
      ]
     },
     "execution_count": 51,
     "metadata": {},
     "output_type": "execute_result"
    }
   ],
   "source": [
    "from sklearn.metrics import r2_score\n",
    "r2_score(y_test,y_pred)"
   ]
  },
  {
   "cell_type": "markdown",
   "id": "ee5ed75b",
   "metadata": {},
   "source": [
    "### check the model performance after standardising"
   ]
  },
  {
   "cell_type": "code",
   "execution_count": 52,
   "id": "626ede57",
   "metadata": {},
   "outputs": [],
   "source": [
    "data_df_new_std = data_df_new"
   ]
  },
  {
   "cell_type": "code",
   "execution_count": 53,
   "id": "e0bedf0f",
   "metadata": {},
   "outputs": [],
   "source": [
    "from sklearn.preprocessing import StandardScaler\n",
    "sc = StandardScaler()\n",
    "std_arr=sc.fit_transform(data_df_new_std[['temp','atemp','humidity','windspeed']])"
   ]
  },
  {
   "cell_type": "code",
   "execution_count": 54,
   "id": "bbd4b76b",
   "metadata": {},
   "outputs": [],
   "source": [
    "data_df_new_std[['temp','atemp','humidity','windspeed']] = pd.DataFrame(std_arr, columns=['temp','atemp','humidity','windspeed'])"
   ]
  },
  {
   "cell_type": "code",
   "execution_count": 55,
   "id": "4abdc846",
   "metadata": {},
   "outputs": [],
   "source": [
    "X_train = data_df_new_std.iloc[train_data_set.index]\n",
    "X_test  = data_df_new_std.iloc[test_data_set.index]"
   ]
  },
  {
   "cell_type": "code",
   "execution_count": 56,
   "id": "c39236af",
   "metadata": {},
   "outputs": [],
   "source": [
    "lr_model.fit(X_train,y_train)\n",
    "y_pred=lr_model.predict(X_test)"
   ]
  },
  {
   "cell_type": "code",
   "execution_count": 57,
   "id": "362b0799",
   "metadata": {},
   "outputs": [
    {
     "data": {
      "text/plain": [
       "0.6906973168299235"
      ]
     },
     "execution_count": 57,
     "metadata": {},
     "output_type": "execute_result"
    }
   ],
   "source": [
    "lr_model.score(X_test,y_test)"
   ]
  }
 ],
 "metadata": {
  "kernelspec": {
   "display_name": "Python 3 (ipykernel)",
   "language": "python",
   "name": "python3"
  },
  "language_info": {
   "codemirror_mode": {
    "name": "ipython",
    "version": 3
   },
   "file_extension": ".py",
   "mimetype": "text/x-python",
   "name": "python",
   "nbconvert_exporter": "python",
   "pygments_lexer": "ipython3",
   "version": "3.9.12"
  }
 },
 "nbformat": 4,
 "nbformat_minor": 5
}
